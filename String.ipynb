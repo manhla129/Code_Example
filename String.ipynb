{
 "cells": [
  {
   "cell_type": "code",
   "execution_count": 50,
   "id": "d64ad165",
   "metadata": {
    "scrolled": false
   },
   "outputs": [
    {
     "name": "stdout",
     "output_type": "stream",
     "text": [
      "Độ dài của chuỗi:  26\n",
      "\n",
      "Số lần xuất hiện ký tự o là 2\n",
      "\n",
      "Lower:             hello python   \n",
      "Upper:             HELLO PYTHON   \n",
      "\n",
      "Xóa khoảng trắng bên trái:  15\n",
      "Xóa khoảng trắng bên phải:  23\n",
      "Xóa khoảng trắng cả 2 bên:  12\n",
      "\n",
      "['hello', 'python']\n",
      "<class 'list'>\n",
      "hello\n",
      "python\n"
     ]
    }
   ],
   "source": [
    "text = \"           hello python   \"\n",
    "\n",
    "#len - trả về độ dài của chuỗi\n",
    "print(\"Độ dài của chuỗi: \",len(text))\n",
    "print()\n",
    "\n",
    "# count - trả về số lần xuất hiện chuỗi con\n",
    "# print(\"Số lần xuất hiện ký tự {0} là {1}\".format('o', text.count('o', 1, -1)))\n",
    "print(\"Số lần xuất hiện ký tự {0} là {1}\".format('o', text.count('o')))\n",
    "print()\n",
    "\n",
    "# lower, upper, title - biến đổi chuỗi thành chữ thường, chữ in hoa, hoặc viết hoa kí tự đầu\n",
    "print(\"Lower: \",text.lower())\n",
    "print(\"Upper: \",text.upper())\n",
    "# print(\"Title: \",text.title())\n",
    "print()\n",
    "\n",
    "# lstrip, rstrip, strip -  xóa toàn bộ ký tự trắng phía bên trái, phải chuỗi hoặc cả trái, phải\n",
    "print(\"Xóa khoảng trắng bên trái: \", len(text.lstrip()))\n",
    "print(\"Xóa khoảng trắng bên phải: \", len(text.rstrip()))\n",
    "print(\"Xóa khoảng trắng cả 2 bên: \", len(text.strip()))\n",
    "print()\n",
    "\n",
    "# split - chia chuỗi thành các chuỗi con dựa theo các ký tự\n",
    "text = text.strip()\n",
    "words = text.split(' ')\n",
    "print(words)\n",
    "print(type(words))\n",
    "print(words[0])\n",
    "print(words[1])"
   ]
  },
  {
   "cell_type": "code",
   "execution_count": 40,
   "id": "09cd3386",
   "metadata": {},
   "outputs": [
    {
     "name": "stdout",
     "output_type": "stream",
     "text": [
      "\"Python Programming\"\n"
     ]
    }
   ],
   "source": [
    "# text = r\"\\\"\\tPython Programming\\\"\"\n",
    "text = \"\\\"Python Programming\\\"\"\n",
    "print(text)"
   ]
  },
  {
   "cell_type": "code",
   "execution_count": 10,
   "id": "4cb57b2d",
   "metadata": {
    "scrolled": true
   },
   "outputs": [
    {
     "name": "stdout",
     "output_type": "stream",
     "text": [
      "Nhập vào họ, tên đệm, tên:\n",
      "   lÃ vĂn mạnH       \n",
      "lã văn mạnh\n",
      "Lã Văn Mạnh\n"
     ]
    }
   ],
   "source": [
    "# Nhập vào họ tên\n",
    "# In ra họ tên theo định dạng chuẩn\n",
    "# ví dụ: nhập vào \"   lÃ vĂn mạnH                   \"\n",
    "# in ra: \"Lã Văn Mạnh\"\n",
    "text = input(\"Nhập vào họ, tên đệm, tên:\\n\")\n",
    "text = text.strip()\n",
    "text = text.lower()\n",
    "print(text)\n",
    "text = text.split(' ')\n",
    "\n",
    "text0 = text[0][0].upper() +  text[0][1:]\n",
    "text1 = text[1][0].upper() +  text[1][1:]\n",
    "text2 = text[2][0].upper() +  text[2][1:]\n",
    "\n",
    "text = text0 + \" \" + text1 + \" \" + text2\n",
    "\n",
    "print(text)\n"
   ]
  }
 ],
 "metadata": {
  "kernelspec": {
   "display_name": "Python 3 (ipykernel)",
   "language": "python",
   "name": "python3"
  },
  "language_info": {
   "codemirror_mode": {
    "name": "ipython",
    "version": 3
   },
   "file_extension": ".py",
   "mimetype": "text/x-python",
   "name": "python",
   "nbconvert_exporter": "python",
   "pygments_lexer": "ipython3",
   "version": "3.9.7"
  }
 },
 "nbformat": 4,
 "nbformat_minor": 5
}
