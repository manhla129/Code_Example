{
 "cells": [
  {
   "cell_type": "code",
   "execution_count": 50,
   "id": "63529459",
   "metadata": {
    "scrolled": false
   },
   "outputs": [
    {
     "name": "stdout",
     "output_type": "stream",
     "text": [
      "['Python', 'C#', 'Javascript', 'HTML']\n",
      "<class 'list'>\n",
      "Chỉ số của phần tử [Python] là 0\n",
      "Chỉ số của phần tử [C#] là 1\n",
      "Chỉ số của phần tử [Javascript] là 2\n",
      "Chỉ số của phần tử [HTML] là 3\n",
      "Python\n",
      "HTML\n",
      "HTML\n",
      "\n",
      "Length: 4\n",
      "\n",
      "After add:  ['Python', 'C#', 'Javascript', 'HTML', 'PHP']\n",
      "\n",
      "Nối 2 list:  ['Python', 'C#', 'Javascript', 'HTML', 'PHP', 'NodeJS', 'C++']\n",
      "\n",
      "Xóa phần tử xác định: ['Python', 'Javascript', 'HTML', 'PHP', 'NodeJS', 'C++']\n",
      "Xóa phần tử cuối cùng: ['Python', 'Javascript', 'HTML', 'PHP', 'NodeJS']\n",
      "In ra phần từ vừa xóa: NodeJS\n",
      "Xóa phần tử theo chỉ số:  ['Python', 'HTML', 'PHP']\n",
      "\n",
      "Cập nhật phần tử:  ['Python', 'XXX', 'PHP']\n",
      "\n",
      "Làm rỗng list:  []\n",
      "\n",
      "Original list:  ['Python', 'XXX', 'PHP']\n",
      "Copy list:  ['Python', 'YYY', 'PHP']\n",
      "\n",
      "Original list:  ['Python', 'XXX', 'PHP']\n",
      "Sort asc list:  ['PHP', 'Python', 'XXX']\n",
      "Sort desc list:  ['XXX', 'Python', 'PHP']\n"
     ]
    }
   ],
   "source": [
    "languages = [\"Python\", \"C#\",\"Javascript\",\"HTML\"]\n",
    "\n",
    "print(languages)\n",
    "print(type(languages))\n",
    "for i in range(len(languages)):\n",
    "    print(\"Chỉ số của phần tử [{0}] là {1}\".format(languages[i],i))\n",
    "print(languages[0])\n",
    "print(languages[3])\n",
    "print(languages[-1])\n",
    "print()\n",
    "\n",
    "#độ dài của list\n",
    "print(\"Length:\",len(languages))\n",
    "print()\n",
    "\n",
    "#thêm phần tử vào cuối list\n",
    "languages.append(\"PHP\")\n",
    "print(\"After add: \",languages)\n",
    "print()\n",
    "\n",
    "#nối 2 list\n",
    "languages2 = [\"NodeJS\",\"C++\"]\n",
    "languages3 = languages + languages2\n",
    "print('Nối 2 list: ',languages3)\n",
    "print()\n",
    "\n",
    "#xóa phần tử trong list: del, remove, pop\n",
    "#xóa phần tử xác định theo giá trị\n",
    "languages3.remove(\"C#\")\n",
    "print('Xóa phần tử xác định:',languages3)\n",
    "#xóa phần từ cuối cùng, và có thể lấy ra phần tử đó gán biến\n",
    "languages3.pop()\n",
    "print('Xóa phần tử cuối cùng:',languages3)\n",
    "pt = languages3.pop()\n",
    "print('In ra phần từ vừa xóa:',pt)\n",
    "#xóa phần tử theo chỉ số, nếu không đưa chỉ số vào thì xóa list\n",
    "del languages3[1]\n",
    "print('Xóa phần tử theo chỉ số: ',languages3)\n",
    "print()\n",
    "\n",
    "#cập nhật phần tử\n",
    "languages3[1]='XXX'\n",
    "print('Cập nhật phần tử: ',languages3)\n",
    "print()\n",
    "\n",
    "#làm rỗng list\n",
    "languages2.clear()\n",
    "print('Làm rỗng list: ',languages2)\n",
    "print()\n",
    "\n",
    "#tạo bản copy của list\n",
    "languages3_copy = languages3.copy()\n",
    "languages3_copy[1] = 'YYY'\n",
    "print('Original list: ',languages3)\n",
    "print('Copy list: ',languages3_copy)\n",
    "print()\n",
    "\n",
    "#sắp xếp trên list\n",
    "print('Original list: ',languages3)\n",
    "languages3.sort()\n",
    "print('Sort asc list: ',languages3)\n",
    "languages3.sort(reverse=True)\n",
    "print('Sort desc list: ',languages3)\n"
   ]
  },
  {
   "cell_type": "markdown",
   "id": "a4c189e2",
   "metadata": {},
   "source": [
    "### Nhập vào 1 chuỗi gồm các số cách nhau bởi 1 dấu cách\n",
    "Tạo 2 list chứa số âm và số dương của dữ liệu nhập vào. Sắp xếp rồi in 2 list đó ra\n",
    "Ví dụ: \n",
    "    In: '10 -20 30 4 2 9 4 -23'\n",
    "    Out:\n",
    "        list_negative = [-20,-23]  (giảm dần)\n",
    "        list_positive = [2, 4, 4, 9, 10, 30]  (tăng dần)"
   ]
  },
  {
   "cell_type": "code",
   "execution_count": 48,
   "id": "c921b212",
   "metadata": {},
   "outputs": [
    {
     "name": "stdout",
     "output_type": "stream",
     "text": [
      "Nhập chuỗi: 10 -20 30 4 2 9 4 -23\n",
      "\tList_negative:  [-20, -23]\n",
      "\tList_positive:  [2, 4, 4, 9, 10, 30]\n"
     ]
    }
   ],
   "source": [
    "text_input = input('Nhập chuỗi: ').split()\n",
    "list_negative = []\n",
    "list_positive = []\n",
    "for i in text_input:\n",
    "    if int(i)<0:\n",
    "        list_negative.append(int(i))\n",
    "    else:\n",
    "        list_positive.append(int(i))\n",
    "list_negative.sort(reverse=True)\n",
    "list_positive.sort()\n",
    "print('\\tList_negative: ',list_negative)\n",
    "print('\\tList_positive: ',list_positive)"
   ]
  }
 ],
 "metadata": {
  "kernelspec": {
   "display_name": "Python 3 (ipykernel)",
   "language": "python",
   "name": "python3"
  },
  "language_info": {
   "codemirror_mode": {
    "name": "ipython",
    "version": 3
   },
   "file_extension": ".py",
   "mimetype": "text/x-python",
   "name": "python",
   "nbconvert_exporter": "python",
   "pygments_lexer": "ipython3",
   "version": "3.9.7"
  }
 },
 "nbformat": 4,
 "nbformat_minor": 5
}
