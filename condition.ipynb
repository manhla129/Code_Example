{
 "cells": [
  {
   "cell_type": "code",
   "execution_count": 5,
   "id": "43fbe38c",
   "metadata": {},
   "outputs": [
    {
     "name": "stdout",
     "output_type": "stream",
     "text": [
      "Số chẵn\n",
      "Kết thúc chương trình\n"
     ]
    }
   ],
   "source": [
    "number = 12\n",
    "\n",
    "if number % 2 == 0:\n",
    "    print(\"Số chẵn\")\n",
    "else:\n",
    "    print(\"Số lẻ\")\n",
    "\n",
    "print('Kết thúc chương trình')"
   ]
  },
  {
   "cell_type": "code",
   "execution_count": 22,
   "id": "3505de22",
   "metadata": {
    "scrolled": true
   },
   "outputs": [
    {
     "name": "stdout",
     "output_type": "stream",
     "text": [
      "Nhập vào 3 số nguyên a, b, c: \n",
      "a = 10\n",
      "b = 100\n",
      "c = 190\n",
      "\n",
      "3 số trên là cấp số cộng\n",
      "\t3 số chẵn\n",
      "\t\tcó ít nhất 1 số >100\n"
     ]
    }
   ],
   "source": [
    "print('Nhập vào 3 số nguyên a, b, c: ')\n",
    "a = int(input(\"a = \"))\n",
    "b = int(input(\"b = \"))\n",
    "c = int(input(\"c = \"))\n",
    "print()\n",
    "\n",
    "if a*2 == b+c or b*2 == a+c or c*2 == a+b:\n",
    "    print('3 số trên là cấp số cộng')\n",
    "    if a%2 == 0 and b%2 == 0 and c%2 == 0:\n",
    "        print(\"\\t3 số chẵn\")\n",
    "        if a<100 and b<100 and c<100:\n",
    "            print(\"\\t\\t3 số <100\")\n",
    "            if a>20 and b>20 and c>20:\n",
    "                print(\"\\t\\t\\t3 số >20\")\n",
    "            else:\n",
    "                print('\\t\\t\\tcó ít nhất 1 số <20')\n",
    "        else:\n",
    "            print(\"\\t\\tcó ít nhất 1 số >100\")\n",
    "    else:\n",
    "        print(\"\\tcó ít nhất 1 số lẻ\")\n",
    "else:\n",
    "    print('3 số trên KHÔNG là cấp số cộng')"
   ]
  },
  {
   "cell_type": "code",
   "execution_count": 24,
   "id": "ddf6d26e",
   "metadata": {},
   "outputs": [
    {
     "name": "stdout",
     "output_type": "stream",
     "text": [
      "Nhập số a = 3\n",
      "Số ba\n"
     ]
    }
   ],
   "source": [
    "number = int(input(\"Nhập số a = \"))\n",
    "\n",
    "if number == 1:\n",
    "    print(\"Số một\")\n",
    "elif number == 2:\n",
    "    print(\"Số hai\")\n",
    "elif number == 3:\n",
    "    print(\"Số ba\")\n",
    "elif number == 4:\n",
    "    print(\"Số bốn\")\n",
    "elif number == 5:\n",
    "    print(\"Số năm\")\n",
    "else:\n",
    "    print(\"Số khác\")"
   ]
  },
  {
   "cell_type": "code",
   "execution_count": 2,
   "id": "0e9edd28",
   "metadata": {
    "scrolled": true
   },
   "outputs": [
    {
     "name": "stdout",
     "output_type": "stream",
     "text": [
      "Nhập số a = 5\n",
      "Nhập số b = 6\n",
      "Max =  6\n"
     ]
    }
   ],
   "source": [
    "a = int(input(\"Nhập số a = \"))\n",
    "b = int(input(\"Nhập số b = \"))\n",
    "\n",
    "# if a >= b:\n",
    "#     maximum = a\n",
    "# else:\n",
    "#     maximum = b\n",
    "# print('Max = ',maximum)\n",
    "\n",
    "maximum = a if a>=b else maximum =b\n",
    "print()"
   ]
  },
  {
   "cell_type": "code",
   "execution_count": 39,
   "id": "965889d9",
   "metadata": {},
   "outputs": [
    {
     "name": "stdout",
     "output_type": "stream",
     "text": [
      "Nhập tháng = 2\n",
      "Nhập năm = 2100\n",
      "Số ngày trong tháng là: 28\n"
     ]
    }
   ],
   "source": [
    "# Nhập tháng, năm tìm ra số ngày của tháng đó\n",
    "month = int(input(\"Nhập tháng = \"))\n",
    "year = int(input(\"Nhập năm = \"))\n",
    "\n",
    "if month == 1:\n",
    "    days = 31\n",
    "elif month == 2:\n",
    "    if year%400 == 0 or (year%4 == 0 and year%100 != 0):\n",
    "        days = 29\n",
    "    else:\n",
    "        days = 28\n",
    "elif month == 3:\n",
    "    days = 31\n",
    "elif month == 4:\n",
    "    days = 30\n",
    "elif month == 5:\n",
    "    days = 31\n",
    "elif month == 6:\n",
    "    days = 30\n",
    "elif month == 7:\n",
    "    days = 31\n",
    "elif month == 8:\n",
    "    days = 31\n",
    "elif month == 9:\n",
    "    days = 30\n",
    "elif month == 10:\n",
    "    days = 31\n",
    "elif month == 11:\n",
    "    days = 30\n",
    "elif month == 12:\n",
    "    days = 31\n",
    "print(\"Số ngày trong tháng là:\",days)\n",
    "    "
   ]
  },
  {
   "cell_type": "code",
   "execution_count": 60,
   "id": "617e9fb8",
   "metadata": {
    "scrolled": true
   },
   "outputs": [
    {
     "name": "stdout",
     "output_type": "stream",
     "text": [
      "Nhập 3 số: 3 1 9\n",
      "Max =  9.0\n",
      "Min =  1.0\n"
     ]
    }
   ],
   "source": [
    "# Nhập vào 3 số, tìm số lớn nhất, nhỏ nhất\n",
    "numbers = input(\"Nhập 3 số: \").strip()\n",
    "numbers = numbers.split(' ')\n",
    "\n",
    "a = numbers[0]\n",
    "b = numbers[1]\n",
    "c = numbers[2]\n",
    "\n",
    "if a.isdigit() == True and b.isdigit() == True and c.isdigit() == True:\n",
    "    a = float(numbers[0])\n",
    "    b = float(numbers[1])\n",
    "    c = float(numbers[2])\n",
    "\n",
    "    max = a if a>=b and a>=c else b if b>=c else c\n",
    "    min = a if a<=b and a<=c else b if b<=c else c\n",
    "\n",
    "    print(\"Max = \", max)\n",
    "    print(\"Min = \", min)\n",
    "else:\n",
    "    print(\"Error!\")\n"
   ]
  },
  {
   "cell_type": "code",
   "execution_count": null,
   "id": "201a43e0",
   "metadata": {},
   "outputs": [],
   "source": []
  }
 ],
 "metadata": {
  "kernelspec": {
   "display_name": "Python 3 (ipykernel)",
   "language": "python",
   "name": "python3"
  },
  "language_info": {
   "codemirror_mode": {
    "name": "ipython",
    "version": 3
   },
   "file_extension": ".py",
   "mimetype": "text/x-python",
   "name": "python",
   "nbconvert_exporter": "python",
   "pygments_lexer": "ipython3",
   "version": "3.9.7"
  }
 },
 "nbformat": 4,
 "nbformat_minor": 5
}
