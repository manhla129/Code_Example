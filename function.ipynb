{
 "cells": [
  {
   "cell_type": "code",
   "execution_count": 2,
   "id": "c40a90b8",
   "metadata": {
    "scrolled": false
   },
   "outputs": [
    {
     "name": "stdout",
     "output_type": "stream",
     "text": [
      "1\n",
      "8\n",
      "27\n",
      "64\n",
      "125\n",
      "216\n",
      "343\n",
      "512\n",
      "729\n",
      "1000\n"
     ]
    }
   ],
   "source": [
    "def lb(a):\n",
    "    return a*a*a\n",
    "\n",
    "for i in range(1,11):\n",
    "    print(lb(i))"
   ]
  },
  {
   "cell_type": "code",
   "execution_count": null,
   "id": "bbacce58",
   "metadata": {},
   "outputs": [],
   "source": [
    "# def name(parameter1, parameter 2, ...)\n",
    "    '''docstring'''\n",
    "    # code to be excecute\n",
    "    # name.__doc__: show docstring"
   ]
  },
  {
   "cell_type": "code",
   "execution_count": 1,
   "id": "ef77f46d",
   "metadata": {
    "scrolled": false
   },
   "outputs": [
    {
     "name": "stdout",
     "output_type": "stream",
     "text": [
      "n = 5\n",
      "Giai thừa của 5 là: 120\n"
     ]
    }
   ],
   "source": [
    "from my_module import *\n",
    "n = int(input('n = '))\n",
    "print(f'Giai thừa của {n} là: {giaithua(n)}')"
   ]
  },
  {
   "cell_type": "code",
   "execution_count": 2,
   "id": "5e960f09",
   "metadata": {},
   "outputs": [
    {
     "data": {
      "text/plain": [
       "(12, -3)"
      ]
     },
     "execution_count": 2,
     "metadata": {},
     "output_type": "execute_result"
    }
   ],
   "source": [
    "from my_module import *\n",
    "\n",
    "max_min(-3,6,12)"
   ]
  },
  {
   "cell_type": "code",
   "execution_count": 5,
   "id": "74bfb941",
   "metadata": {
    "scrolled": true
   },
   "outputs": [
    {
     "name": "stdout",
     "output_type": "stream",
     "text": [
      "Nhập n = 50\n",
      "Số nguyên tố thứ 1: 2\n",
      "Số nguyên tố thứ 2: 3\n",
      "Số nguyên tố thứ 3: 5\n",
      "Số nguyên tố thứ 4: 7\n",
      "Số nguyên tố thứ 5: 11\n",
      "Số nguyên tố thứ 6: 13\n",
      "Số nguyên tố thứ 7: 17\n",
      "Số nguyên tố thứ 8: 19\n",
      "Số nguyên tố thứ 9: 23\n",
      "Số nguyên tố thứ 10: 29\n",
      "Số nguyên tố thứ 11: 31\n",
      "Số nguyên tố thứ 12: 37\n",
      "Số nguyên tố thứ 13: 41\n",
      "Số nguyên tố thứ 14: 43\n",
      "Số nguyên tố thứ 15: 47\n",
      "Tổng số nguyên tố: 15\n"
     ]
    }
   ],
   "source": [
    "from my_module import *\n",
    "\n",
    "n = int(input('Nhập n = '))\n",
    "count = 0\n",
    "for i in range(2,n+1):\n",
    "    if ngto(i):\n",
    "        count +=1\n",
    "        print(f'Số nguyên tố thứ {count}: {i}')\n",
    "print(f'Tổng số nguyên tố: {count}')"
   ]
  },
  {
   "cell_type": "code",
   "execution_count": 3,
   "id": "332b43df",
   "metadata": {},
   "outputs": [
    {
     "name": "stdout",
     "output_type": "stream",
     "text": [
      "x1 = 40\n",
      "x2 = 30\n"
     ]
    }
   ],
   "source": [
    "x = 40\n",
    "def mysum(num1, num2):\n",
    "    global x\n",
    "    print('x1 =',x)\n",
    "    x = num1 + num2\n",
    "    print('x2 =',x)\n",
    "\n",
    "mysum(10,20)"
   ]
  },
  {
   "cell_type": "code",
   "execution_count": 7,
   "id": "27d6783c",
   "metadata": {},
   "outputs": [
    {
     "name": "stdout",
     "output_type": "stream",
     "text": [
      "Giá trị:  10\n",
      "Địa chỉ:  3157738482256\n",
      "Giá trị:  20\n",
      "Địa chỉ:  3157738482576\n",
      "Giá trị:  ['Python', 'C#', 'Bootstrap']\n",
      "Địa chỉ:  3157820412160\n",
      "Giá trị:  ['Python', 'C#', 'Bootstrap', 'Javascript']\n",
      "Địa chỉ:  3157820412160\n"
     ]
    }
   ],
   "source": [
    "# Nhóm đối tượng thay đổi được: int, long, float, string,...\n",
    "number = 10\n",
    "print('Giá trị: ',number)\n",
    "print('Địa chỉ: ',id(number))\n",
    "\n",
    "number = 20\n",
    "print('Giá trị: ',number)\n",
    "print('Địa chỉ: ',id(number))\n",
    "\n",
    "# Nhóm đối tượng ko thay đổi được: list, dict, tuple\n",
    "languages = ['Python','C#','Bootstrap']\n",
    "print('Giá trị: ',languages)\n",
    "print('Địa chỉ: ',id(languages))\n",
    "\n",
    "languages.append('Javascript')\n",
    "print('Giá trị: ',languages)\n",
    "print('Địa chỉ: ',id(languages))\n"
   ]
  },
  {
   "cell_type": "raw",
   "id": "19c58921",
   "metadata": {},
   "source": [
    "Tham trị: truyền vào giá trị\n",
    "Tham chiếu: truyền địa chỉ (ánh xạ) vào"
   ]
  },
  {
   "cell_type": "code",
   "execution_count": 44,
   "id": "d8605918",
   "metadata": {},
   "outputs": [
    {
     "name": "stdout",
     "output_type": "stream",
     "text": [
      "Phương trình vô nghiệm Phương trình vô nghiệm\n"
     ]
    }
   ],
   "source": [
    "def giaiptb2(a,b,c):\n",
    "    '''Giải phương trình bậc 2 ax^2 + bx + c = 0 \n",
    "    với các tham số đầu vào lần lượt là a,b,c là các số'''\n",
    "    if a == 0:\n",
    "        if b == 0:\n",
    "            x1= x2 = 'Dữ liệu không hợp lệ'\n",
    "        else:\n",
    "            x1 = x2 = -c/b\n",
    "    else:\n",
    "        delta = b**2 - 4*a*c\n",
    "        if delta < 0:\n",
    "            x1 =x2 = 'Phương trình vô nghiệm'\n",
    "        elif delta == 0:\n",
    "            x1 = x2 = -b/(2*a)\n",
    "        else:\n",
    "            x1 = (-b+delta**0.5)/(2*a)\n",
    "            x2 = (-b-delta**0.5)/(2*a)\n",
    "    return x1, x2\n",
    "\n",
    "x1, x2 = giaiptb2(1,3,4)\n",
    "print(x1,x2)\n",
    "# if x1  =='Phương trình vô nghiệm':\n",
    "#     print('Phương trình vô nghiệm')\n",
    "# elif x1 =='Dữ liệu không hợp lệ':\n",
    "#     print('Dữ liệu không hợp lệ')\n",
    "# else:\n",
    "#     print('tb =',(x1 + x2)/2)"
   ]
  },
  {
   "cell_type": "code",
   "execution_count": null,
   "id": "cc79e45b",
   "metadata": {},
   "outputs": [],
   "source": [
    "def giaiptb2(a,b,c):\n",
    "    '''Giải phương trình bậc 2 ax^2 + bx + c = 0 \n",
    "    với các tham số đầu vào lần lượt là a,b,c là các số\n",
    "    - Hàm trả về 3 số:\n",
    "    + số thứ nhất là các giá trị -1, 0, 1, 2 tương ứng vô nghiệm, vô số nghiệm\n",
    "    nghiệm kép và 2 nghiệm phân biệt\n",
    "    + Hai số sau là các giá trị của nghiệm. Nêu None thì không\n",
    "    có giá trị\n",
    "    '''\n",
    "    if a==0:\n",
    "        if b==0:\n",
    "            if c==0:\n",
    "                x = 0\n",
    "                x1 = None\n",
    "                x2 = None\n",
    "            else:\n",
    "                x = -1\n",
    "                x1 = None\n",
    "                x2 = None\n",
    "        else:\n",
    "            x = 1\n",
    "            x1 = x2 = -c/b\n",
    "    else:\n",
    "        delta = b**2 - 4*a*c\n",
    "        if delta < 0:\n",
    "            x = -1\n",
    "            x1 = None\n",
    "            x2 = None\n",
    "        elif delta = 0:\n",
    "            x = 1\n",
    "            x1 = x2 = -b/(2*a) \n",
    "        else:\n",
    "            x = 2\n",
    "            x1 = (-b+delta**0.5)/(2*a)\n",
    "            x2 = (-b-delta**0.5)/(2*a)\n",
    "    return x, x1, x2\n",
    "\n"
   ]
  },
  {
   "cell_type": "raw",
   "id": "7c3e8bd7",
   "metadata": {},
   "source": [
    "Trong các công ty sản xuất, tgian trong tháng được chia làm các tuần. Một tuần đẩy đủ (tuần chẵn) được tính từ thứ 2 đến chủ nhật (có đầy đủ các ngày), còn tuần lẻ là các tuần không đủ 7 ngày.\n",
    "Nhập vào tháng và năm, tính số tuần (bao gồm chẵn, lẻ) trong tháng đó"
   ]
  },
  {
   "cell_type": "code",
   "execution_count": 66,
   "id": "1b16f75f",
   "metadata": {},
   "outputs": [
    {
     "name": "stdout",
     "output_type": "stream",
     "text": [
      "5\n",
      "3 10 17 24 \n",
      "Tuần lẻ =  2\n",
      "Tuần chẵn =  3\n"
     ]
    }
   ],
   "source": [
    "import datetime\n",
    "from calendar import monthrange\n",
    "month =4\n",
    "year = 2022\n",
    "firstdate = datetime.date(year, month, 1)\n",
    "num_day = monthrange(year,month)[1]\n",
    "list_sun =''\n",
    "count = 0\n",
    "week_count=0\n",
    "for i in range(1,num_day+1):\n",
    "    if datetime.date(year, month, i).weekday() == 6:\n",
    "        list_sun+=str(i)+' '\n",
    "        count +=1\n",
    "if firstdate.weekday() == 6:\n",
    "    week_count = count\n",
    "else:\n",
    "    week_count = count +1\n",
    "\n",
    "print(week_count)\n",
    "print(list_sun)\n",
    "tuanle=0\n",
    "if list_sun[0] !='7':\n",
    "    tuanle +=1\n",
    "if list_sun[-1] != str(num_day):\n",
    "    tuanle +=1\n",
    "print('Tuần lẻ = ',tuanle)\n",
    "print('Tuần chẵn = ',week_count - tuanle)\n",
    "    "
   ]
  }
 ],
 "metadata": {
  "kernelspec": {
   "display_name": "Python 3 (ipykernel)",
   "language": "python",
   "name": "python3"
  },
  "language_info": {
   "codemirror_mode": {
    "name": "ipython",
    "version": 3
   },
   "file_extension": ".py",
   "mimetype": "text/x-python",
   "name": "python",
   "nbconvert_exporter": "python",
   "pygments_lexer": "ipython3",
   "version": "3.9.7"
  }
 },
 "nbformat": 4,
 "nbformat_minor": 5
}
