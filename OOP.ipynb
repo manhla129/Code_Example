{
 "cells": [
  {
   "cell_type": "markdown",
   "id": "04d0027c",
   "metadata": {},
   "source": [
    "### OOP: Object Oriented Language (Lập trình hướng đối tượng)"
   ]
  },
  {
   "cell_type": "raw",
   "id": "90706872",
   "metadata": {},
   "source": [
    "Khái niệm:\n",
    "1. Đối tượng (Object)\n",
    "- gồm thuộc tính và hành vi\n",
    "    + thuộc tính: đặc điểm mô tả, đặc trưng của đối tượng\n",
    "    + hành vi: khả năng của đối tượng, những cách thức mà qua đó đối tượng thể                hiện được sự hoạt động hay chức năng của nó\n",
    "    Ví dụ: bút\n",
    "        + thuộc tính: màu sắc, hình dáng bút khác nhau\n",
    "        + hành vi: viết, chọc\n",
    "            \n",
    "2. Lớp (Class)\n",
    "- mô tả 1 loại đối tượng chung thuộc tính, hành vi hoặc có thuộc tính, hành vi tương tự nhau\n",
    "3. Thuộc tính (Property)\n",
    "4. Phương thức (Method)/Hành vi (Behavior)/Hành động (Action)/Khả năng (Capability)\n",
    "5. Các đặc tính cơ bản"
   ]
  },
  {
   "cell_type": "code",
   "execution_count": null,
   "id": "0beae458",
   "metadata": {
    "scrolled": true
   },
   "outputs": [],
   "source": [
    "class Person:\n",
    "    # Liệt kê các thuộc tính của lớp\n",
    "    name = 'Nguyễn Thanh Bình'\n",
    "    age = 20\n",
    "    residence = 'Hà Nội'\n",
    "    \n",
    "    # Hàm khởi tạo (constructor)\n",
    "    def __init__(self, name, age, residence):\n",
    "        self.name = name\n",
    "        self.age = age\n",
    "        self.residence = residence\n",
    "    # Nếu sử dụng hàm khởi tạo rồi thì không cần phải khai báo thuộc tính bên trên\n",
    "        \n",
    "    # Liệt kê các phương thức của lớp\n",
    "    def move(self):\n",
    "        print('Tôi có thể di chuyển')\n",
    "    \n",
    "    def say(self):\n",
    "        print('Tôi có thể nói')\n",
    "    \n",
    "    def dance(self):\n",
    "        print('Tôi có thể nhảy')\n",
    "    \n",
    "    def swim(self):\n",
    "        print('Tôi có thể bơi')    \n",
    "\n",
    "    def infor(self):\n",
    "        print('Name :', self.name)\n",
    "        print('Age :', self.age)\n",
    "        print('Residence :', self.residence)\n",
    "        \n",
    "a = Person('Lã Văn Mạnh',28, 'Hà Nội')\n",
    "a.infor()\n",
    "\n",
    "b = Person('Võ Hoàng Yến', 25, 'Bắc Ninh')\n",
    "b.residence = 'Bắc Giang'\n",
    "b.infor()"
   ]
  },
  {
   "cell_type": "raw",
   "id": "63253371",
   "metadata": {},
   "source": [
    "Xây dựng lớp tam giác gồm 3 cạnh a,b,c.\n",
    "Phương thức:\n",
    "    - Kiểm tra sự tồn tại của tam giác\n",
    "    - Tính chu vi, diện tích"
   ]
  },
  {
   "cell_type": "code",
   "execution_count": null,
   "id": "e131e345",
   "metadata": {},
   "outputs": [],
   "source": [
    "class Tamgiac:\n",
    "    # Hàm khởi tạo\n",
    "    def __init__(self, a, b, c):\n",
    "        self.a = a\n",
    "        self.b = b\n",
    "        self.c = c\n",
    "    \n",
    "    # Hàm thành viên\n",
    "    def validate(self):\n",
    "        if (self.a + self.b > self.c) and (self.a + self.c > self.b) and (self.c + self.b > self.a):\n",
    "            return True\n",
    "        else:\n",
    "            return False\n",
    "\n",
    "    def area(self):\n",
    "        if self.validate():\n",
    "            p = (self.a + self.b + self.c)/2\n",
    "            return (p*(p-self.a)*(p-self.b)*(p-self.c))**0.5\n",
    "    \n",
    "    def length(self):\n",
    "        if self.validate():\n",
    "            return self.a + self.b + self.c"
   ]
  },
  {
   "cell_type": "code",
   "execution_count": null,
   "id": "9cea7eab",
   "metadata": {
    "scrolled": true
   },
   "outputs": [],
   "source": [
    "tamgiac1 = Tamgiac(3, 4, 5)\n",
    "print('Có phải tam giác không?',tamgiac1.validate())\n",
    "print('Chu vi:',tamgiac1.length())\n",
    "print('Chu vi:',tamgiac1.area())"
   ]
  },
  {
   "cell_type": "code",
   "execution_count": null,
   "id": "b8ef48be",
   "metadata": {},
   "outputs": [],
   "source": [
    "# Tạo 100 điểm khác nhau, vẽ lên Turtle\n",
    "import random\n",
    "import turtle\n",
    "\n",
    "tl = turtle.Turtle()\n",
    "tl.speed(30)\n",
    "\n",
    "i = 0\n",
    "for i in range(50):\n",
    "    x = random.randint(-200, 200)\n",
    "    y = random.randint(-200, 200)\n",
    "    tl.penup()\n",
    "    tl.goto(x, y)\n",
    "    tl.pendown()\n",
    "    tl.write(f'  ({x},{y})')\n",
    "    tl.dot()\n",
    "turtle.done()"
   ]
  },
  {
   "cell_type": "code",
   "execution_count": null,
   "id": "732c8224",
   "metadata": {
    "scrolled": true
   },
   "outputs": [],
   "source": [
    "import random\n",
    "import turtle\n",
    "\n",
    "class Point():\n",
    "    def __init__(self, x, y):\n",
    "        self.x = x\n",
    "        self.y = y\n",
    "    \n",
    "    def print(self):\n",
    "        print('({0}, {1})'.format(self.x, self.y))\n",
    "    \n",
    "    def infor(self):\n",
    "        return '  ({0},{1})'.format(self.x, self.y)\n",
    "\n",
    "points = []\n",
    "p_rd = [i for i in range(-200,200)]\n",
    "for i in range(50):\n",
    "    x = random.choice(p_rd)\n",
    "    y = random.choice(p_rd)\n",
    "    point = Point(x, y)\n",
    "    point.print()\n",
    "    points.append(point)\n",
    "    \n",
    "tl = turtle.Turtle()\n",
    "for p in points:\n",
    "    tl.penup()\n",
    "    tl.goto(p.x, p.y)\n",
    "    tl.pendown()\n",
    "    tl.dot()\n",
    "    tl.write(p.infor())\n",
    "turtle.done()"
   ]
  }
 ],
 "metadata": {
  "kernelspec": {
   "display_name": "Python 3 (ipykernel)",
   "language": "python",
   "name": "python3"
  },
  "language_info": {
   "codemirror_mode": {
    "name": "ipython",
    "version": 3
   },
   "file_extension": ".py",
   "mimetype": "text/x-python",
   "name": "python",
   "nbconvert_exporter": "python",
   "pygments_lexer": "ipython3",
   "version": "3.9.7"
  }
 },
 "nbformat": 4,
 "nbformat_minor": 5
}
