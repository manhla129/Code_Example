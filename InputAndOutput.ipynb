{
 "cells": [
  {
   "cell_type": "code",
   "execution_count": 1,
   "id": "e0c43070",
   "metadata": {
    "scrolled": true
   },
   "outputs": [
    {
     "name": "stdout",
     "output_type": "stream",
     "text": [
      "Python-Course-2022xxxHello\n",
      "Python Course\n",
      "Hello\n"
     ]
    }
   ],
   "source": [
    "print(\"Python\", \"Course\", 2022, sep=\"-\", end=\"xxx\")\n",
    "print(\"Hello\")\n",
    "print(\"Python\", \"Course\")\n",
    "print(\"Hello\")"
   ]
  },
  {
   "cell_type": "code",
   "execution_count": 2,
   "id": "959f57e2",
   "metadata": {
    "scrolled": false
   },
   "outputs": [
    {
     "name": "stdout",
     "output_type": "stream",
     "text": [
      "Nhập a: 1\n",
      "Nhập b: 2\n",
      "Nhập c: 3\n",
      "delta =  -8\n",
      "Nghiệm của phương trình 1x^2 + 2x + 3 = 0 là 1 và 3\n",
      "Nghiệm của phương trình 1x^2 + 2x + 3 = 0 là 1 và 3\n",
      "Nghiệm của phương trình 1x^2 + 2x + 3 = 0 là 1 và 3\n"
     ]
    }
   ],
   "source": [
    "# text= input(\"Nhập chuỗi bất kì: \")\n",
    "# print(\"Dữ liệu vừa nhập vào từ bàn phím là {x}\".format(x=text))\n",
    "\n",
    "a = int(input(\"Nhập a: \"))\n",
    "b = int(input(\"Nhập b: \"))\n",
    "c = int(input(\"Nhập c: \"))\n",
    "\n",
    "delta = b**2 - 4*a*c\n",
    "x1 = 1\n",
    "x2 = 3\n",
    "\n",
    "print(\"delta = \",delta)\n",
    "# Nghiệm là 1 và 3\n",
    "\n",
    "# Nghiệm của phương trình ax^2+bx+c là x1 và x2\n",
    "print(\"Nghiệm của phương trình \" +str(a)+\"x^2 + \" +str(b)+ \"x + \" + str(c) +\" = 0\"+\" là \" +str(x1) + \" và \" + str(x2))\n",
    "\n",
    "# Dạng 1: Dùng index\n",
    "print(\"Nghiệm của phương trình {0}x^2 + {1}x + {2} = 0 là {3} và {4}\".format(a, b, c, x1, x2))\n",
    "\n",
    "# Đảo vị trí index {1}&{2} ~ b&c\n",
    "# print(\"Nghiệm của phương trình {0}x^2 + {2}x + {1} = 0 là {3} và {4}\".format(a, c, b, x1, x2))\n",
    "\n",
    "# Dạng 2: Dùng keyword\n",
    "print(\"Nghiệm của phương trình {a}x^2 + {b}x + {c} = 0 là {x1} và {x2}\".format(a=a, b=b, c=c, x1=x1, x2=x2))\n",
    "# print(\"Nghiệm của phương trình {x}x^2 + {y}x + {z} = 0 là {ng2} và {ng1}\".format(x=a, y=b, z=c, ng1=x1, ng2=x2))\n"
   ]
  },
  {
   "cell_type": "code",
   "execution_count": 3,
   "id": "0b9c93a7",
   "metadata": {
    "scrolled": false
   },
   "outputs": [
    {
     "name": "stdout",
     "output_type": "stream",
     "text": [
      "Nhập a: 1\n",
      "Nhập b: 1\n",
      "Nhập c: 2\n",
      "Giá trị delta:  -7.0\n"
     ]
    }
   ],
   "source": [
    "import math\n",
    "\n",
    "a = int(input(\"Nhập a: \"))\n",
    "b = int(input(\"Nhập b: \"))\n",
    "c = int(input(\"Nhập c: \"))\n",
    "\n",
    "delta = math.pow(b,2) - 4*a*c\n",
    "print(\"Giá trị delta: \",delta)"
   ]
  },
  {
   "cell_type": "code",
   "execution_count": 4,
   "id": "69a78499",
   "metadata": {
    "scrolled": true
   },
   "outputs": [
    {
     "name": "stdout",
     "output_type": "stream",
     "text": [
      "Nhập a: 1\n",
      "Nhập b: 1\n",
      "Nhập c: 1\n",
      "Giá trị delta:  -3.0\n"
     ]
    }
   ],
   "source": [
    "from math import pow\n",
    "# from math import *\n",
    "\n",
    "a = int(input(\"Nhập a: \"))\n",
    "b = int(input(\"Nhập b: \"))\n",
    "c = int(input(\"Nhập c: \"))\n",
    "\n",
    "delta = pow(b,2) - 4*a*c\n",
    "print(\"Giá trị delta: \",delta)"
   ]
  },
  {
   "cell_type": "code",
   "execution_count": 6,
   "id": "c234f834",
   "metadata": {
    "scrolled": true
   },
   "outputs": [
    {
     "ename": "NameError",
     "evalue": "name 'pwd' is not defined",
     "output_type": "error",
     "traceback": [
      "\u001b[1;31m---------------------------------------------------------------------------\u001b[0m",
      "\u001b[1;31mNameError\u001b[0m                                 Traceback (most recent call last)",
      "\u001b[1;32m~\\AppData\\Local\\Temp/ipykernel_8400/4057356435.py\u001b[0m in \u001b[0;36m<module>\u001b[1;34m\u001b[0m\n\u001b[0;32m      1\u001b[0m \u001b[1;31m# import MyModules\u001b[0m\u001b[1;33m\u001b[0m\u001b[1;33m\u001b[0m\u001b[0m\n\u001b[1;32m----> 2\u001b[1;33m \u001b[0mpwd\u001b[0m\u001b[1;33m\u001b[0m\u001b[1;33m\u001b[0m\u001b[0m\n\u001b[0m",
      "\u001b[1;31mNameError\u001b[0m: name 'pwd' is not defined"
     ]
    }
   ],
   "source": [
    "# import MyModules\n",
    "pwd"
   ]
  }
 ],
 "metadata": {
  "kernelspec": {
   "display_name": "Python 3 (ipykernel)",
   "language": "python",
   "name": "python3"
  },
  "language_info": {
   "codemirror_mode": {
    "name": "ipython",
    "version": 3
   },
   "file_extension": ".py",
   "mimetype": "text/x-python",
   "name": "python",
   "nbconvert_exporter": "python",
   "pygments_lexer": "ipython3",
   "version": "3.9.7"
  }
 },
 "nbformat": 4,
 "nbformat_minor": 5
}
