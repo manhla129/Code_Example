{
 "cells": [
  {
   "cell_type": "code",
   "execution_count": 15,
   "id": "8163fc35",
   "metadata": {},
   "outputs": [
    {
     "name": "stdout",
     "output_type": "stream",
     "text": [
      "Nhập 2 số a, b (a <b) cách nhau 1 khoảng trắng: 1 30\n",
      "12Fizz4BuzzFizz78FizzBuzz11Fizz1314FizzBuzz1617Fizz19BuzzFizz2223FizzBuzz26Fizz2829FizzBuzz\n"
     ]
    }
   ],
   "source": [
    "ab = input('Nhập 2 số a, b (a <b) cách nhau 1 khoảng trắng: ')\n",
    "ab = ab.split()\n",
    "a = int(ab[0])\n",
    "b = int(ab[-1])\n",
    "text = ''\n",
    "for i in range(a,b+1):\n",
    "    if i%3==0 and i%5==0:\n",
    "        i = 'FizzBuzz'\n",
    "    elif i%3==0:\n",
    "        i = 'Fizz'\n",
    "    elif i%5==0:\n",
    "        i = 'Buzz'\n",
    "    else:\n",
    "        i = str(i)\n",
    "    text+=i\n",
    "    \n",
    "print(text)"
   ]
  }
 ],
 "metadata": {
  "kernelspec": {
   "display_name": "Python 3 (ipykernel)",
   "language": "python",
   "name": "python3"
  },
  "language_info": {
   "codemirror_mode": {
    "name": "ipython",
    "version": 3
   },
   "file_extension": ".py",
   "mimetype": "text/x-python",
   "name": "python",
   "nbconvert_exporter": "python",
   "pygments_lexer": "ipython3",
   "version": "3.9.7"
  }
 },
 "nbformat": 4,
 "nbformat_minor": 5
}
