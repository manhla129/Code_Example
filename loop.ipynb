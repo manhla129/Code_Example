{
 "cells": [
  {
   "cell_type": "code",
   "execution_count": 2,
   "id": "7b7c2d7f",
   "metadata": {},
   "outputs": [
    {
     "name": "stdout",
     "output_type": "stream",
     "text": [
      "Hello\n",
      "Hello\n",
      "Hello\n",
      "Hello\n",
      "Hello\n",
      "Hello\n",
      "Hello\n",
      "Hello\n",
      "Hello\n",
      "Hello\n",
      "Kết thúc vòng lặp\n"
     ]
    }
   ],
   "source": [
    "i = 0\n",
    "while i <10:\n",
    "    print('Hello')\n",
    "    i += 1\n",
    "print('Kết thúc vòng lặp')"
   ]
  },
  {
   "cell_type": "code",
   "execution_count": 11,
   "id": "c586e096",
   "metadata": {
    "scrolled": false
   },
   "outputs": [
    {
     "name": "stdout",
     "output_type": "stream",
     "text": [
      "Các số từ 1 - 100\n",
      "1 2 3 4 5 6 7 8 9 10 11 12 13 14 15 16 17 18 19 20 21 22 23 24 25 26 27 28 29 30 31 32 33 34 35 36 37 38 39 40 41 42 43 44 45 46 47 48 49 50 51 52 53 54 55 56 57 58 59 60 61 62 63 64 65 66 67 68 69 70 71 72 73 74 75 76 77 78 79 80 81 82 83 84 85 86 87 88 89 90 91 92 93 94 95 96 97 98 99 100 \n",
      "\n",
      "Các số lẻ từ 1 - 100\n",
      "1 3 5 7 9 11 13 15 17 19 21 23 25 27 29 31 33 35 37 39 41 43 45 47 49 51 53 55 57 59 61 63 65 67 69 71 73 75 77 79 81 83 85 87 89 91 93 95 97 99 "
     ]
    }
   ],
   "source": [
    "# In ra các số từ 1 - 100\n",
    "# In ra các số lẻ từ 1 - 100\n",
    "\n",
    "i = 1\n",
    "print('Các số từ 1 - 100')\n",
    "while i<=100:\n",
    "    print(i, end=' ')\n",
    "    i += 1\n",
    "    \n",
    "j = 1\n",
    "print('\\n\\nCác số lẻ từ 1 - 100')\n",
    "while j<=100:\n",
    "    if j%2 != 0:\n",
    "        print(j, end=' ')\n",
    "    j += 1"
   ]
  },
  {
   "cell_type": "code",
   "execution_count": 5,
   "id": "62523662",
   "metadata": {
    "scrolled": true
   },
   "outputs": [
    {
     "name": "stdout",
     "output_type": "stream",
     "text": [
      "Nhập số tự nhiên N = 61\n",
      "3 9 15 21 27 33 39 45 51 57 \n",
      "Kết thúc\n"
     ]
    }
   ],
   "source": [
    "# Nhập vào 1 số tự nhiên N. In ra các số tự nhiên chia hết cho 3 nhưng không chia hết cho 6 và nhỏ hơn N\n",
    "N = int(input(\"Nhập số tự nhiên N = \"))\n",
    "\n",
    "i = 0\n",
    "while i < N:\n",
    "    if i%3 == 0 and i%6 != 0:\n",
    "        print(i, end=' ')\n",
    "    i += 1\n",
    "\n",
    "print(\"\\nKết thúc\")"
   ]
  },
  {
   "cell_type": "code",
   "execution_count": 1,
   "id": "7ac149d3",
   "metadata": {},
   "outputs": [],
   "source": [
    "import turtle\n",
    "tl = turtle.Turtle()\n",
    "i = 0\n",
    "while i < 5:\n",
    "    tl.forward(100)\n",
    "    tl.right(144)\n",
    "    i+=1\n",
    "turtle.done()"
   ]
  },
  {
   "cell_type": "code",
   "execution_count": 3,
   "id": "da1bd90e",
   "metadata": {},
   "outputs": [
    {
     "name": "stdout",
     "output_type": "stream",
     "text": [
      "Sum = 5050\n"
     ]
    }
   ],
   "source": [
    "# Tính tổng từ 1 - 100\n",
    "i = 0\n",
    "sum = 0\n",
    "while i <= 100:\n",
    "    sum+=i\n",
    "    i+=1\n",
    "print('Sum =',sum)"
   ]
  },
  {
   "cell_type": "code",
   "execution_count": 4,
   "id": "6e79c08a",
   "metadata": {},
   "outputs": [
    {
     "name": "stdout",
     "output_type": "stream",
     "text": [
      "Sum = 5050\n"
     ]
    }
   ],
   "source": [
    "# Tính tổng từ 1 - 100\n",
    "i = 0\n",
    "sum = 0\n",
    "while True:\n",
    "    sum+=i\n",
    "    i+=1\n",
    "    if i > 100:\n",
    "        break\n",
    "print('Sum =',sum)"
   ]
  },
  {
   "cell_type": "code",
   "execution_count": 7,
   "id": "ee0d8b42",
   "metadata": {
    "scrolled": true
   },
   "outputs": [
    {
     "name": "stdout",
     "output_type": "stream",
     "text": [
      "P\n",
      "y\n",
      "t\n",
      "h\n",
      "o\n",
      "n\n",
      " \n",
      "P\n",
      "r\n",
      "o\n",
      "g\n",
      "r\n",
      "a\n",
      "m\n",
      "m\n",
      "i\n",
      "n\n",
      "g\n"
     ]
    }
   ],
   "source": [
    "# for val in list: #list là 1 danh sách, ko được là 1 số\n",
    "#     print(val)\n",
    "text = \"Python Programming\" # text là 1 danh sách gồm các ký tự\n",
    "\n",
    "for i in text:\n",
    "    print(i)\n"
   ]
  },
  {
   "cell_type": "code",
   "execution_count": 8,
   "id": "0eecc3a9",
   "metadata": {
    "scrolled": true
   },
   "outputs": [
    {
     "name": "stdout",
     "output_type": "stream",
     "text": [
      "Python\n",
      "C#\n",
      "PHP\n",
      "HTML\n"
     ]
    }
   ],
   "source": [
    "mylist = [\"Python\", \"C#\",\"PHP\",\"HTML\"]\n",
    "\n",
    "for i in mylist:\n",
    "    print(i)"
   ]
  },
  {
   "cell_type": "code",
   "execution_count": 16,
   "id": "35031e11",
   "metadata": {},
   "outputs": [
    {
     "name": "stdout",
     "output_type": "stream",
     "text": [
      "Nhập vào 1 chuỗi: jdfhgs1234567lkfjdg8\n",
      "Count = 8\n"
     ]
    }
   ],
   "source": [
    "# Nhập vào 1 chuỗi, đếm xem trong đó có bao nhiêu ký tự là số\n",
    "mylist = input(\"Nhập vào 1 chuỗi: \")\n",
    "\n",
    "_count = 0\n",
    "\n",
    "for i in mylist:\n",
    "    if i in \"0123456789\":\n",
    "        _count+=1\n",
    "\n",
    "print('Count =',_count)"
   ]
  },
  {
   "cell_type": "code",
   "execution_count": 7,
   "id": "e49c89b2",
   "metadata": {
    "scrolled": false
   },
   "outputs": [
    {
     "name": "stdout",
     "output_type": "stream",
     "text": [
      "0\n",
      "\n",
      "0\n",
      "1\n",
      "2\n",
      "3\n",
      "4\n"
     ]
    }
   ],
   "source": [
    "# range(start, end, step)\n",
    "# mảng các phần tử từ start (mặc định là 0) đến end-1, \n",
    "# bước nhảy là step (mặc định là 1)\n",
    "\n",
    "for i in range(0,5,1):\n",
    "    print(i)\n",
    "print()\n",
    "for i in range(5):\n",
    "    print(i)\n"
   ]
  },
  {
   "cell_type": "code",
   "execution_count": 13,
   "id": "16e9a5a4",
   "metadata": {
    "scrolled": false
   },
   "outputs": [
    {
     "name": "stdout",
     "output_type": "stream",
     "text": [
      "Nhập vào số tự nhiên n: 8\n",
      "Giai thừa của số 8 là: 40320\n"
     ]
    }
   ],
   "source": [
    "# Tính giai thừa của 1 số tự nhiên n\n",
    "n = int(input(\"Nhập vào số tự nhiên n: \"))\n",
    "giaithua = 1\n",
    "for i in range(1,n+1):\n",
    "    giaithua *= i\n",
    "print(f\"Giai thừa của số {n} là: {giaithua}\")"
   ]
  },
  {
   "cell_type": "code",
   "execution_count": 18,
   "id": "59b31cc3",
   "metadata": {
    "scrolled": false
   },
   "outputs": [
    {
     "name": "stdout",
     "output_type": "stream",
     "text": [
      "Đội 1: 110100\n",
      "Đội 2: 011010\n",
      "Tỉ số là: 3 - 3\n"
     ]
    }
   ],
   "source": [
    "#nhập 2 chuỗi nhị phân tương ứng kết quả đá luân lưu của 2 đội bóng\n",
    "#1: vào, 0: trượt. In ra kết quả tỉ số\n",
    "a = input('Đội 1: ')\n",
    "b = input('Đội 2: ')\n",
    "\n",
    "c=0\n",
    "d=0\n",
    "for i in range(len(a)):\n",
    "    if a[i]=='1':\n",
    "        c +=1\n",
    "    if b[i]=='1':\n",
    "        d +=1\n",
    "print(f'Tỉ số là: {c} - {d}')\n",
    "    \n",
    "    "
   ]
  },
  {
   "cell_type": "code",
   "execution_count": 35,
   "id": "d3b528bc",
   "metadata": {
    "scrolled": true
   },
   "outputs": [
    {
     "name": "stdout",
     "output_type": "stream",
     "text": [
      "Nhập vào số tự nhiên N: 7\n",
      "*******\n",
      "******\n",
      "*****\n",
      "****\n",
      "***\n",
      "**\n",
      "*\n"
     ]
    }
   ],
   "source": [
    "# Nhập vào số tự nhiên N, vẽ hình các dấu * theo quy luật giảm dần\n",
    "N = int(input(\"Nhập vào số tự nhiên N: \"))\n",
    "\n",
    "for i in range(N):\n",
    "    print('*'*(N-i))"
   ]
  },
  {
   "cell_type": "code",
   "execution_count": 25,
   "id": "234071f0",
   "metadata": {},
   "outputs": [
    {
     "name": "stdout",
     "output_type": "stream",
     "text": [
      "apple\n",
      "---------------\n",
      "apple\n",
      "orange\n"
     ]
    }
   ],
   "source": [
    "# break: thoát khỏi vòng lặp\n",
    "# continue: bỏ qua bước hiện tại của vòng lặp\n",
    "\n",
    "text = ['apple','banana','orange']\n",
    "for i in text:\n",
    "    if i == 'banana':\n",
    "        break\n",
    "    print(i)\n",
    "print('---------------')\n",
    "text = ['apple','banana','orange']\n",
    "for i in text:\n",
    "    if i == 'banana':\n",
    "        continue\n",
    "    print(i)"
   ]
  },
  {
   "cell_type": "code",
   "execution_count": 34,
   "id": "7a9ec948",
   "metadata": {
    "scrolled": true
   },
   "outputs": [
    {
     "name": "stdout",
     "output_type": "stream",
     "text": [
      "m = 3\n",
      "n = 6\n",
      "3*1=3\t4*1=4\t5*1=5\t6*1=6\t\n",
      "3*2=6\t4*2=8\t5*2=10\t6*2=12\t\n",
      "3*3=9\t4*3=12\t5*3=15\t6*3=18\t\n",
      "3*4=12\t4*4=16\t5*4=20\t6*4=24\t\n",
      "3*5=15\t4*5=20\t5*5=25\t6*5=30\t\n",
      "3*6=18\t4*6=24\t5*6=30\t6*6=36\t\n",
      "3*7=21\t4*7=28\t5*7=35\t6*7=42\t\n",
      "3*8=24\t4*8=32\t5*8=40\t6*8=48\t\n",
      "3*9=27\t4*9=36\t5*9=45\t6*9=54\t\n"
     ]
    }
   ],
   "source": [
    "### Bảng cửu chương nằm ngang\n",
    "m = int(input('m = '))\n",
    "n = int(input('n = '))\n",
    "for j in range(1,10):\n",
    "    for i in range(m,n+1):\n",
    "        print('{0}*{1}={2}'.format(i,j,i*j),end='\\t')\n",
    "    print()"
   ]
  },
  {
   "cell_type": "code",
   "execution_count": 57,
   "id": "63ae618e",
   "metadata": {},
   "outputs": [
    {
     "name": "stdout",
     "output_type": "stream",
     "text": [
      "Nhập vào số tự nhiên N: 5\n",
      "\n",
      "*\n",
      "**\n",
      "***\n",
      "****\n",
      "*****\n",
      "****\n",
      "***\n",
      "**\n",
      "*\n",
      "\n"
     ]
    }
   ],
   "source": [
    "# Nhập vào số tự nhiên N, vẽ hình các dấu * theo quy luật tăng rồi giảm dần\n",
    "# Không dùng toán tử *\n",
    "N = int(input(\"Nhập vào số tự nhiên N: \"))\n",
    "\n",
    "for i in range(N+1):\n",
    "    for j in range(i):\n",
    "        print('*',end='')\n",
    "    print()\n",
    "    \n",
    "for i in range(N):\n",
    "    for j in range(N-i-1):\n",
    "         print('*',end='')\n",
    "    print()\n",
    "    \n"
   ]
  },
  {
   "cell_type": "code",
   "execution_count": 58,
   "id": "139ce676",
   "metadata": {},
   "outputs": [
    {
     "name": "stdout",
     "output_type": "stream",
     "text": [
      "Nhập vào số tự nhiên N: 5\n",
      "*\n",
      "**\n",
      "***\n",
      "****\n",
      "*****\n",
      "****\n",
      "***\n",
      "**\n",
      "*\n"
     ]
    }
   ],
   "source": [
    "# Nhập vào số tự nhiên N, vẽ hình các dấu * theo quy luật tăng rồi giảm dần\n",
    "# Không dùng toán tử *\n",
    "N = int(input(\"Nhập vào số tự nhiên N: \"))\n",
    "\n",
    "for i in range(2*N-1):\n",
    "    if i <=(N-1):\n",
    "        print('*'*(i+1))\n",
    "    else:\n",
    "        print('*'*(2*N-1-i))\n",
    "    "
   ]
  }
 ],
 "metadata": {
  "kernelspec": {
   "display_name": "Python 3 (ipykernel)",
   "language": "python",
   "name": "python3"
  },
  "language_info": {
   "codemirror_mode": {
    "name": "ipython",
    "version": 3
   },
   "file_extension": ".py",
   "mimetype": "text/x-python",
   "name": "python",
   "nbconvert_exporter": "python",
   "pygments_lexer": "ipython3",
   "version": "3.9.7"
  }
 },
 "nbformat": 4,
 "nbformat_minor": 5
}
