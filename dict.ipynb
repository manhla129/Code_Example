{
 "cells": [
  {
   "cell_type": "code",
   "execution_count": 4,
   "id": "d9b8cd9c",
   "metadata": {},
   "outputs": [
    {
     "name": "stdout",
     "output_type": "stream",
     "text": [
      "{'Mango': 'Orange', 'Melon': 'Green', 'Dragonfruit': 'Red', 'Cherry': 'Red'}\n",
      "<class 'dict'>\n",
      "Orange\n"
     ]
    }
   ],
   "source": [
    "fruits = {'Mango':'Yellow', 'Melon': 'Green', 'Dragonfruit':'Red','Mango':'Orange','Cherry':'Red'}\n",
    "print(fruits)\n",
    "print(type(fruits))\n",
    "print(fruits['Mango'])"
   ]
  },
  {
   "cell_type": "code",
   "execution_count": 12,
   "id": "49fe0ff0",
   "metadata": {},
   "outputs": [
    {
     "name": "stdout",
     "output_type": "stream",
     "text": [
      "{'Trần Công Hoan': (8, 9, 10), 'Huỳnh Đức Việt': [9, 7, 9]}\n",
      "{('Trần Công Hoan', '20/6/2022'): (8, 9, 10), ('Huỳnh Đức Việt', '30/7/2021'): [9, 7, 9]}\n",
      "{'Đại học HN': {('Trần Công Hoan', '20/6/2022'): (8, 9, 10)}, 'ĐH FPT': {('Huỳnh Đức Việt', '30/7/2021'): [9, 7, 9]}}\n"
     ]
    }
   ],
   "source": [
    "datasv = {'Trần Công Hoan': (8, 9 , 10), 'Huỳnh Đức Việt': [9, 7, 9]}\n",
    "print(datasv)\n",
    "\n",
    "datasv2 = {('Trần Công Hoan','20/6/2022'): (8, 9, 10), ('Huỳnh Đức Việt','30/7/2021'): [9, 7, 9]}\n",
    "print(datasv2)\n",
    "\n",
    "datasv3 = {'Đại học HN': {('Trần Công Hoan','20/6/2022'): (8, 9, 10)}, 'ĐH FPT': {('Huỳnh Đức Việt','30/7/2021'): [9, 7, 9]}}\n",
    "print(datasv3)"
   ]
  },
  {
   "cell_type": "code",
   "execution_count": 6,
   "id": "412e39dd",
   "metadata": {
    "scrolled": false
   },
   "outputs": [
    {
     "name": "stdout",
     "output_type": "stream",
     "text": [
      "{'Mango': 'Orange', 'Melon': 'Green', 'Dragonfruit': 'Red', 'Cherry': 'Red'}\n",
      "\n",
      "{}\n",
      "\n",
      "{'Lemon': 'Yellow'}\n",
      "\n",
      "{'Melon': 'Green', 'Dragonfruit': 'Red', 'Cherry': 'Red'}\n",
      "{'Dragonfruit': 'Red', 'Cherry': 'Red'}\n",
      "\n",
      "{'A': 'XX'}\n",
      "\n",
      "None\n",
      "\n",
      "dict_keys(['Dragonfruit', 'Cherry'])\n",
      "Dragonfruit\n",
      "Cherry\n",
      "\n",
      "dict_values(['Red', 'Red'])\n",
      "Red\n",
      "Red\n",
      "\n",
      "dict_items([('Dragonfruit', 'Red'), ('Cherry', 'Red')])\n",
      "('Dragonfruit', 'Red')\n",
      "('Cherry', 'Red')\n",
      "Fruit: Dragonfruit, \tColor: Red\n",
      "Fruit: Cherry, \tColor: Red\n",
      "\n",
      "Fruit: Dragonfruit, \tColor: Red\n",
      "Fruit: Cherry, \tColor: Red\n"
     ]
    }
   ],
   "source": [
    "# Copy dict\n",
    "fruits_clone = fruits.copy()\n",
    "print(fruits_clone)\n",
    "print()\n",
    "\n",
    "# Xóa dict\n",
    "fruits_clone.clear()\n",
    "print(fruits_clone)\n",
    "print()\n",
    "\n",
    "# Thêm phần tử vào dict theo key\n",
    "fruits_clone['Lemon'] = 'Yellow'\n",
    "print(fruits_clone)\n",
    "print()\n",
    "\n",
    "# Xóa phần tử chỉ định\n",
    "fruits_clone = fruits.copy()\n",
    "fruits_clone.pop('Mango')\n",
    "print(fruits_clone)\n",
    "del fruits_clone['Melon']\n",
    "print(fruits_clone)\n",
    "print()\n",
    "\n",
    "# Trả về 1 dict với key, value chỉ định\n",
    "sub_fruits = fruits_clone.fromkeys('A','XX')\n",
    "print(sub_fruits)\n",
    "print()\n",
    "\n",
    "# Trả về value với key chỉ định *****\n",
    "ml = fruits_clone.get('Melon')\n",
    "print(ml)\n",
    "print()\n",
    "\n",
    "# Trả về danh sách keys của dict *****\n",
    "fruits_keys = fruits_clone.keys()\n",
    "print(fruits_keys)\n",
    "for keys in fruits_keys:\n",
    "    print(keys)\n",
    "print()  \n",
    "\n",
    "# Trả về danh sách values của dict *****\n",
    "fruits_values = fruits_clone.values()\n",
    "print(fruits_values)\n",
    "for values in fruits_values:\n",
    "    print(values)\n",
    "print()\n",
    "\n",
    "# Trả về 1 tuple chứa key, value của dict *****\n",
    "fruits_items = fruits_clone.items()\n",
    "print(fruits_items)\n",
    "for items in fruits_items:\n",
    "    print(items)\n",
    "for key, value in fruits_items:\n",
    "    print('Fruit: {0}, \\tColor: {1}'.format(key, value))\n",
    "print()\n",
    "\n",
    "for key in fruits_clone.keys():\n",
    "    print('Fruit: {0}, \\tColor: {1}'.format(key, fruits_clone[key]))"
   ]
  },
  {
   "cell_type": "raw",
   "id": "9e3bd613",
   "metadata": {},
   "source": [
    "Viết 1 mini game kiểm tra từ mới tiếng Anh.\n",
    "Mỗi lần chơi màn hình sẽ hiển thị từ tiếng Anh, và yêu cầu người chơi nhập vào nghĩa tiếng Việt.\n",
    "Nếu đúng thì cộng điểm, và hiển thị 'Đúng', sai thì hiển thị 'Sai'. \n",
    "Sau mỗi lần đánh giá kết quả đúng/sai xong thì từ mới tiếng Anh khác lại xuất hiện và lặp lại cho đến khi người chơi nhập từ 'Quit'"
   ]
  },
  {
   "cell_type": "code",
   "execution_count": 97,
   "id": "9a65f8ee",
   "metadata": {
    "scrolled": true
   },
   "outputs": [
    {
     "name": "stdout",
     "output_type": "stream",
     "text": [
      "('School', 'Trường học')\n",
      "('Ruler', 'Thước kẻ')\n",
      "('Book', 'Sách')\n",
      "('Notebook', 'Vở')\n",
      "('Chair', 'Ghế')\n",
      "('Desk', 'Bàn')\n",
      "('Board', 'Bảng')\n"
     ]
    }
   ],
   "source": [
    "dict_game = {'School': 'Trường học', 'Ruler': 'Thước kẻ', 'Book': 'Sách',\n",
    "            'Notebook': 'Vở', 'Chair': 'Ghế', 'Desk': 'Bàn', 'Board': 'Bảng'}\n",
    "# quit_game = True\n",
    "# while quit_game:\n",
    "#     for key, value in dict_game:\n",
    "#         print(key, value)\n",
    "for items in dict_game.items():\n",
    "    print(items)"
   ]
  },
  {
   "cell_type": "code",
   "execution_count": 94,
   "id": "d32474e2",
   "metadata": {},
   "outputs": [
    {
     "name": "stdout",
     "output_type": "stream",
     "text": [
      "9.0\n",
      "STT\t\tTên đại học\t\tHọ tên\t\tĐiểm trung bình\n",
      "1\t\tĐại Học Hà Nội\t\tTrần Công Hoan\t\t9.0\t\t\n",
      "2\t\tĐại học FPT\t\tHuỳnh Đức Việt\t\t8.33\t\t\n",
      "3\t\tĐại học Bách Khoa\t\tLã Văn Mạnh\t\t7.33\t\t\n"
     ]
    }
   ],
   "source": [
    "def avg_mark(marks):\n",
    "    '''Tính giá trị điểm trung bình'''\n",
    "    total = 0\n",
    "    for i in marks:\n",
    "        total+=i\n",
    "    return round(total/len(marks),2)\n",
    "\n",
    "print(avg_mark((8,9,10)))\n",
    "\n",
    "datasv3 = {'Đại Học Hà Nội': {('Trần Công Hoan', '20/6/2022'): (8,9,10)}, \n",
    "           'Đại học FPT':{('Huỳnh Đức Việt', '30/7/2021'): (9, 7 , 9)},\n",
    "           'Đại học Bách Khoa': {('Lã Văn Mạnh', '30/7/2021'): (9, 4 , 9)}}\n",
    "# for items in datasv3.items():\n",
    "#     print(items)\n",
    "    \n",
    "# print('Tên đại học\\t\\tHọ tên\\t\\t\\tĐiểm trung bình')\n",
    "# for keys in datasv3.keys():\n",
    "#     print('{0}\\t\\t{1}\\t\\t{2}'.format(keys, list(datasv3[keys].keys())[0][0], datasv3[keys].values()))\n",
    "\n",
    "result = {}\n",
    "index = 0\n",
    "\n",
    "for keys, values in datasv3.items():\n",
    "    data = (keys, list(values.keys())[0][0], avg_mark(list(values.values())[0]))\n",
    "    index+=1\n",
    "    result[index] = data\n",
    "print('STT\\t\\tTên đại học\\t\\tHọ tên\\t\\tĐiểm trung bình')\n",
    "for keys, values in result.items():\n",
    "    print(keys, end='\\t\\t')\n",
    "    for i in values:\n",
    "        print(i, end='\\t\\t')\n",
    "    print()"
   ]
  },
  {
   "cell_type": "raw",
   "id": "8e794719",
   "metadata": {},
   "source": [
    "Nhập mã sinh viên, họ tên và điểm tổng kết.\n",
    "Xây dựng dict như mẫu từ những dữ liệu nhập vào\n",
    "Yêu cầu:\n",
    "    1. Tìm những sinh viên có điểm >= 8.0\n",
    "    2. Xếp loại sinh viên theo tiêu chí sau:\n",
    "        0-5: Kém\n",
    "        5-6: TB\n",
    "        6-8: Khá\n",
    "        8-10: Giỏi\n",
    "    3. Sắp xếp list sinh viên theo họ tên"
   ]
  },
  {
   "cell_type": "code",
   "execution_count": 18,
   "id": "e270415e",
   "metadata": {},
   "outputs": [
    {
     "name": "stdout",
     "output_type": "stream",
     "text": [
      "Nhập số sinh viên: 3\n",
      "Nhập mã sinh viên 1: 101\n",
      "Nhập tên sinh viên 1: Mạnh\n",
      "Nhập điểm sinh viên 1: 7\n",
      "Nhập mã sinh viên 2: 102\n",
      "Nhập tên sinh viên 2: Thảo\n",
      "Nhập điểm sinh viên 2: 5\n",
      "Nhập mã sinh viên 3: 103\n",
      "Nhập tên sinh viên 3: Chun\n",
      "Nhập điểm sinh viên 3: 9\n",
      "{'101': ('Mạnh', '7'), '102': ('Thảo', '5'), '103': ('Chun', '9')}\n",
      "1. Danh sách những sv có điểm >=8:  ['Chun']\n",
      "2. Phân loại sinh viên theo điểm\n",
      "\tSTT\t\tHọ tên\t\tĐiểm\t\tPhân loại\n",
      "\t101\t\tMạnh\t\t7\t\tKhá\n",
      "\t102\t\tThảo\t\t5\t\tTB\n",
      "\t103\t\tChun\t\t9\t\tGiỏi\n",
      "3. Sắp xếp danh sách sinh viên theo họ tên tăng dần\n",
      "\tSTT\t\tHọ tên\t\tĐiểm\n",
      "\t101\t\tMạnh\t\t7\n",
      "\t102\t\tThảo\t\t5\n",
      "\t103\t\tChun\t\t9\n"
     ]
    }
   ],
   "source": [
    "def danhgia(mark):\n",
    "    if mark <5:\n",
    "        return 'Kém'\n",
    "    elif mark <6:\n",
    "        return 'TB'\n",
    "    elif mark <8:\n",
    "        return 'Khá'\n",
    "    else:\n",
    "        return 'Giỏi'\n",
    "    \n",
    "infor_student = {}\n",
    "n = int(input('Nhập số sinh viên: '))\n",
    "for i in range(1,n+1):\n",
    "    list_infor = []\n",
    "    gen = input('Nhập mã sinh viên {0}: '.format(i))\n",
    "    name = input('Nhập tên sinh viên {0}: '.format(i))\n",
    "    mark = input('Nhập điểm sinh viên {0}: '.format(i))\n",
    "    list_infor.append(name)\n",
    "    list_infor.append(mark)\n",
    "    infor = tuple(list_infor)\n",
    "    infor_student[gen] = infor\n",
    "print(infor_student)\n",
    "list_8 = []\n",
    "for values in infor_student.values():\n",
    "    if int(values[1]) >= 8:\n",
    "        list_8.append(values[0])\n",
    "print('1. Danh sách những sv có điểm >=8: ', list_8)\n",
    "\n",
    "print('2. Phân loại sinh viên theo điểm')\n",
    "print('\\tSTT\\t\\tHọ tên\\t\\tĐiểm\\t\\tPhân loại')\n",
    "for keys, values in infor_student.items():\n",
    "    print('\\t{0}'.format(keys), end='\\t\\t')\n",
    "    print(values[0],end='\\t\\t')\n",
    "    print(values[1],end='\\t\\t')\n",
    "    print(danhgia(float(values[1])))\n",
    "    \n",
    "print('3. Sắp xếp danh sách sinh viên theo họ tên tăng dần')\n",
    "print('\\tSTT\\t\\tHọ tên\\t\\tĐiểm')\n",
    "\n",
    "infor_student_new = {}\n",
    "list_name = []\n",
    "for keys, values in infor_student.items():\n",
    "    list_name.values[0]\n"
   ]
  },
  {
   "cell_type": "code",
   "execution_count": 25,
   "id": "b02c4272",
   "metadata": {},
   "outputs": [
    {
     "name": "stdout",
     "output_type": "stream",
     "text": [
      "['Chun', 'Mạnh', 'Thảo']\n",
      "{'Mạnh': '7', 'Thảo': '5', 'Chun': '9'}\n",
      "{'Chun': '9', 'Mạnh': '7', 'Thảo': '5'}\n",
      "('Chun', '9')\n",
      "('Mạnh', '7')\n",
      "('Thảo', '5')\n",
      "{}\n"
     ]
    }
   ],
   "source": [
    "infor_student = {'101': ('Mạnh', '7'), '102': ('Thảo', '5'), '103': ('Chun', '9')}\n",
    "\n",
    "\n",
    "list_name = []\n",
    "for keys, values in infor_student.items():\n",
    "    list_name.append(values[0])\n",
    "list_name.sort()\n",
    "print(list_name)\n",
    "dict_sub = {}\n",
    "for keys, values in infor_student.items():\n",
    "    dict_sub[values[0]] = values[1]\n",
    "print(dict_sub)\n",
    "\n",
    "dict_sub2 = {}\n",
    "for i in list_name:\n",
    "    dict_sub2[i] = dict_sub.get(i)\n",
    "print(dict_sub2)\n",
    "\n",
    "infor_student_new = {}\n",
    "\n",
    "for items in dict_sub2.items():\n",
    "    print(items)\n",
    "#     infor_student_new[infor_student.keys(items)] = items\n",
    "print(infor_student_new)\n",
    "    "
   ]
  }
 ],
 "metadata": {
  "kernelspec": {
   "display_name": "Python 3 (ipykernel)",
   "language": "python",
   "name": "python3"
  },
  "language_info": {
   "codemirror_mode": {
    "name": "ipython",
    "version": 3
   },
   "file_extension": ".py",
   "mimetype": "text/x-python",
   "name": "python",
   "nbconvert_exporter": "python",
   "pygments_lexer": "ipython3",
   "version": "3.9.7"
  }
 },
 "nbformat": 4,
 "nbformat_minor": 5
}
