{
 "cells": [
  {
   "cell_type": "code",
   "execution_count": 7,
   "id": "a138efb0",
   "metadata": {},
   "outputs": [
    {
     "name": "stdout",
     "output_type": "stream",
     "text": [
      "{'Mango': 'Orange', 'Melon': 'Green', 'Dragonfruit': 'Red', 'Cherry': 'Red'}\n",
      "<class 'dict'>\n",
      "Orange\n"
     ]
    }
   ],
   "source": [
    "fruits = {'Mango':'Yellow', 'Melon': 'Green', 'Dragonfruit':'Red','Mango':'Orange','Cherry':'Red'}\n",
    "print(fruits)\n",
    "print(type(fruits))\n",
    "print(fruits['Mango'])"
   ]
  },
  {
   "cell_type": "code",
   "execution_count": 12,
   "id": "531f25f1",
   "metadata": {},
   "outputs": [
    {
     "name": "stdout",
     "output_type": "stream",
     "text": [
      "{'Trần Công Hoan': (8, 9, 10), 'Huỳnh Đức Việt': [9, 7, 9]}\n",
      "{('Trần Công Hoan', '20/6/2022'): (8, 9, 10), ('Huỳnh Đức Việt', '30/7/2021'): [9, 7, 9]}\n",
      "{'Đại học HN': {('Trần Công Hoan', '20/6/2022'): (8, 9, 10)}, 'ĐH FPT': {('Huỳnh Đức Việt', '30/7/2021'): [9, 7, 9]}}\n"
     ]
    }
   ],
   "source": [
    "datasv = {'Trần Công Hoan': (8, 9 , 10), 'Huỳnh Đức Việt': [9, 7, 9]}\n",
    "print(datasv)\n",
    "\n",
    "datasv2 = {('Trần Công Hoan','20/6/2022'): (8, 9, 10), ('Huỳnh Đức Việt','30/7/2021'): [9, 7, 9]}\n",
    "print(datasv2)\n",
    "\n",
    "datasv3 = {'Đại học HN': {('Trần Công Hoan','20/6/2022'): (8, 9, 10)}, 'ĐH FPT': {('Huỳnh Đức Việt','30/7/2021'): [9, 7, 9]}}\n",
    "print(datasv3)"
   ]
  },
  {
   "cell_type": "code",
   "execution_count": 41,
   "id": "4041a2d3",
   "metadata": {
    "scrolled": false
   },
   "outputs": [
    {
     "name": "stdout",
     "output_type": "stream",
     "text": [
      "{'Mango': 'Orange', 'Melon': 'Green', 'Dragonfruit': 'Red', 'Cherry': 'Red'}\n",
      "\n",
      "{}\n",
      "\n",
      "{'Melon': 'Green', 'Dragonfruit': 'Red', 'Cherry': 'Red'}\n",
      "\n",
      "{'A': 'XX'}\n",
      "\n",
      "Green\n",
      "\n",
      "dict_keys(['Melon', 'Dragonfruit', 'Cherry'])\n",
      "Melon\n",
      "Dragonfruit\n",
      "Cherry\n",
      "\n",
      "dict_values(['Green', 'Red', 'Red'])\n",
      "Green\n",
      "Red\n",
      "Red\n",
      "\n",
      "dict_items([('Melon', 'Green'), ('Dragonfruit', 'Red'), ('Cherry', 'Red')])\n",
      "('Melon', 'Green')\n",
      "('Dragonfruit', 'Red')\n",
      "('Cherry', 'Red')\n",
      "Fruit: Melon, \tColor: Green\n",
      "Fruit: Dragonfruit, \tColor: Red\n",
      "Fruit: Cherry, \tColor: Red\n",
      "\n",
      "Fruit: Melon, \tColor: Green\n",
      "Fruit: Dragonfruit, \tColor: Red\n",
      "Fruit: Cherry, \tColor: Red\n"
     ]
    }
   ],
   "source": [
    "# Copy dict\n",
    "fruits_clone = fruits.copy()\n",
    "print(fruits_clone)\n",
    "print()\n",
    "\n",
    "# Xóa dict\n",
    "fruits_clone.clear()\n",
    "print(fruits_clone)\n",
    "print()\n",
    "\n",
    "# Xóa phần tử chỉ định\n",
    "fruits_clone = fruits.copy()\n",
    "fruits_clone.pop('Mango')\n",
    "print(fruits_clone)\n",
    "print()\n",
    "\n",
    "# Trả về 1 dict với key, value chỉ định\n",
    "sub_fruits = fruits_clone.fromkeys('A','XX')\n",
    "print(sub_fruits)\n",
    "print()\n",
    "\n",
    "# Trả về value với key chỉ định *****\n",
    "ml = fruits_clone.get('Melon')\n",
    "print(ml)\n",
    "print()\n",
    "\n",
    "# Trả về danh sách keys của dict *****\n",
    "fruits_keys = fruits_clone.keys()\n",
    "print(fruits_keys)\n",
    "for keys in fruits_keys:\n",
    "    print(keys)\n",
    "print()  \n",
    "\n",
    "# Trả về danh sách values của dict *****\n",
    "fruits_values = fruits_clone.values()\n",
    "print(fruits_values)\n",
    "for values in fruits_values:\n",
    "    print(values)\n",
    "print()\n",
    "\n",
    "# Trả về 1 tuple chứa key, value của dict *****\n",
    "fruits_items = fruits_clone.items()\n",
    "print(fruits_items)\n",
    "for items in fruits_items:\n",
    "    print(items)\n",
    "for key, value in fruits_items:\n",
    "    print('Fruit: {0}, \\tColor: {1}'.format(key, value))\n",
    "print()\n",
    "\n",
    "for key in fruits_clone.keys():\n",
    "    print('Fruit: {0}, \\tColor: {1}'.format(key, fruits_clone[key]))"
   ]
  },
  {
   "cell_type": "raw",
   "id": "dcb96782",
   "metadata": {},
   "source": [
    "Viết 1 mini game kiểm tra từ mới tiếng Anh.\n",
    "Mỗi lần chơi màn hình sẽ hiển thị từ tiếng Anh, và yêu cầu người chơi nhập vào nghĩa tiếng Việt.\n",
    "Nếu đúng thì cộng điểm, và hiển thị 'Đúng', sai thì hiển thị 'Sai'. \n",
    "Sau mỗi lần đánh giá kết quả đúng/sai xong thì từ mới tiếng Anh khác lại xuất hiện và lặp lại cho đến khi người chơi nhập từ 'Quit'"
   ]
  },
  {
   "cell_type": "code",
   "execution_count": 46,
   "id": "800d14b5",
   "metadata": {
    "scrolled": true
   },
   "outputs": [
    {
     "name": "stdout",
     "output_type": "stream",
     "text": [
      "School\n",
      "Ruler\n",
      "Book\n",
      "Notebook\n",
      "Chair\n",
      "Desk\n",
      "Board\n"
     ]
    }
   ],
   "source": [
    "dict_game = {'School': 'Trường học', 'Ruler': 'Thước kẻ', 'Book': 'Sách',\n",
    "            'Notebook': 'Vở', 'Chair': 'Ghế', 'Desk': 'Bàn', 'Board': 'Bảng'}\n",
    "# quit_game = True\n",
    "# while quit_game:\n",
    "#     for key, value in dict_game:\n",
    "#         print(key, value)\n",
    "for items in dict_game:\n",
    "    print(items)"
   ]
  },
  {
   "cell_type": "code",
   "execution_count": 94,
   "id": "1c8bd8d0",
   "metadata": {},
   "outputs": [
    {
     "name": "stdout",
     "output_type": "stream",
     "text": [
      "9.0\n",
      "STT\t\tTên đại học\t\tHọ tên\t\tĐiểm trung bình\n",
      "1\t\tĐại Học Hà Nội\t\tTrần Công Hoan\t\t9.0\t\t\n",
      "2\t\tĐại học FPT\t\tHuỳnh Đức Việt\t\t8.33\t\t\n",
      "3\t\tĐại học Bách Khoa\t\tLã Văn Mạnh\t\t7.33\t\t\n"
     ]
    }
   ],
   "source": [
    "def avg_mark(marks):\n",
    "    '''Tính giá trị điểm trung bình'''\n",
    "    total = 0\n",
    "    for i in marks:\n",
    "        total+=i\n",
    "    return round(total/len(marks),2)\n",
    "\n",
    "print(avg_mark((8,9,10)))\n",
    "\n",
    "datasv3 = {'Đại Học Hà Nội': {('Trần Công Hoan', '20/6/2022'): (8,9,10)}, \n",
    "           'Đại học FPT':{('Huỳnh Đức Việt', '30/7/2021'): (9, 7 , 9)},\n",
    "           'Đại học Bách Khoa': {('Lã Văn Mạnh', '30/7/2021'): (9, 4 , 9)}}\n",
    "# for items in datasv3.items():\n",
    "#     print(items)\n",
    "    \n",
    "# print('Tên đại học\\t\\tHọ tên\\t\\t\\tĐiểm trung bình')\n",
    "# for keys in datasv3.keys():\n",
    "#     print('{0}\\t\\t{1}\\t\\t{2}'.format(keys, list(datasv3[keys].keys())[0][0], datasv3[keys].values()))\n",
    "\n",
    "result = {}\n",
    "index = 0\n",
    "\n",
    "for keys, values in datasv3.items():\n",
    "    data = (keys, list(values.keys())[0][0], avg_mark(list(values.values())[0]))\n",
    "    index+=1\n",
    "    result[index] = data\n",
    "print('STT\\t\\tTên đại học\\t\\tHọ tên\\t\\tĐiểm trung bình')\n",
    "for keys, values in result.items():\n",
    "    print(keys, end='\\t\\t')\n",
    "    for i in values:\n",
    "        print(i, end='\\t\\t')\n",
    "    print()"
   ]
  }
 ],
 "metadata": {
  "kernelspec": {
   "display_name": "Python 3 (ipykernel)",
   "language": "python",
   "name": "python3"
  },
  "language_info": {
   "codemirror_mode": {
    "name": "ipython",
    "version": 3
   },
   "file_extension": ".py",
   "mimetype": "text/x-python",
   "name": "python",
   "nbconvert_exporter": "python",
   "pygments_lexer": "ipython3",
   "version": "3.9.7"
  }
 },
 "nbformat": 4,
 "nbformat_minor": 5
}
