{
 "cells": [
  {
   "cell_type": "code",
   "execution_count": null,
   "id": "fabdf61e",
   "metadata": {},
   "outputs": [],
   "source": [
    "def ngto(a):\n",
    "    '''kiểm tra số nguyên tố'''\n",
    "    flag = True\n",
    "    for i in range(2,a//2+1):\n",
    "        if a%i==0:\n",
    "            flag = False\n",
    "            break\n",
    "    return flag\n",
    "\n",
    "def isSimple(num):\n",
    "    '''kiểm tra số nguyên tố'''\n",
    "    for i in range(2,num//2+1):\n",
    "        if num%i==0:\n",
    "            return False\n",
    "    return True\n",
    "\n",
    "def giaithua(number):\n",
    "    '''Hàm tính giai thừa của 1 số tự nhiên'''\n",
    "    if number == 0:\n",
    "        return 1\n",
    "    else:\n",
    "        gt = 1\n",
    "        for i in range(1, number+1):\n",
    "            gt *= i\n",
    "        return gt\n",
    "\n",
    "def max_min(a, b, c=10):\n",
    "    '''Tìm max, min của 3 số, số thứ 3 mặc định là 10'''\n",
    "    max = a if a>b and a>c else b if b>c else c\n",
    "    min = a if a<b and a<c else b if b<c else c\n",
    "    return max, min"
   ]
  }
 ],
 "metadata": {
  "kernelspec": {
   "display_name": "Python 3 (ipykernel)",
   "language": "python",
   "name": "python3"
  },
  "language_info": {
   "codemirror_mode": {
    "name": "ipython",
    "version": 3
   },
   "file_extension": ".py",
   "mimetype": "text/x-python",
   "name": "python",
   "nbconvert_exporter": "python",
   "pygments_lexer": "ipython3",
   "version": "3.9.7"
  }
 },
 "nbformat": 4,
 "nbformat_minor": 5
}
