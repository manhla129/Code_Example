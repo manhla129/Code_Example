{
 "cells": [
  {
   "cell_type": "code",
   "execution_count": 2,
   "id": "c40a90b8",
   "metadata": {
    "scrolled": true
   },
   "outputs": [
    {
     "name": "stdout",
     "output_type": "stream",
     "text": [
      "1\n",
      "8\n",
      "27\n",
      "64\n",
      "125\n",
      "216\n",
      "343\n",
      "512\n",
      "729\n",
      "1000\n"
     ]
    }
   ],
   "source": [
    "def lb(a):\n",
    "    return a*a*a\n",
    "\n",
    "for i in range(1,11):\n",
    "    print(lb(i))"
   ]
  },
  {
   "cell_type": "code",
   "execution_count": null,
   "id": "bbacce58",
   "metadata": {},
   "outputs": [],
   "source": [
    "# def name(parameter1, parameter 2, ...)\n",
    "    '''describe about function'''\n",
    "    # code to be excecute\n",
    "    # name.__doc__: show describe"
   ]
  },
  {
   "cell_type": "code",
   "execution_count": 6,
   "id": "ef77f46d",
   "metadata": {},
   "outputs": [
    {
     "name": "stdout",
     "output_type": "stream",
     "text": [
      "n = 5\n",
      "Giai thừa của 5 là: 120\n",
      "Hàm tính giai thừa của 1 số tự nhiên\n"
     ]
    }
   ],
   "source": [
    "def giaithua(number):\n",
    "    '''Hàm tính giai thừa của 1 số tự nhiên'''\n",
    "    if number == 0:\n",
    "        return 1\n",
    "    else:\n",
    "        gt = 1\n",
    "        for i in range(1, number+1):\n",
    "            gt *= i\n",
    "        return gt\n",
    "\n",
    "n = int(input('n = '))\n",
    "print(f'Giai thừa của {n} là: {giaithua(n)}')\n",
    "print(giaithua.__doc__)"
   ]
  },
  {
   "cell_type": "code",
   "execution_count": 9,
   "id": "5e960f09",
   "metadata": {},
   "outputs": [
    {
     "data": {
      "text/plain": [
       "(12, -3)"
      ]
     },
     "execution_count": 9,
     "metadata": {},
     "output_type": "execute_result"
    }
   ],
   "source": [
    "def max_min(a, b, c=10):\n",
    "    max = a if a>b and a>c else b if b>c else c\n",
    "    min = a if a<b and a<c else b if b<c else c\n",
    "    return max, min\n",
    "\n",
    "max_min(-3,6,12)"
   ]
  },
  {
   "cell_type": "code",
   "execution_count": 20,
   "id": "74bfb941",
   "metadata": {},
   "outputs": [
    {
     "name": "stdout",
     "output_type": "stream",
     "text": [
      "Nhập n= 100\n",
      "Số 1 là: 2\n",
      "Số 2 là: 3\n",
      "Số 3 là: 5\n",
      "Số 4 là: 7\n",
      "Số 5 là: 11\n",
      "Số 6 là: 13\n",
      "Số 7 là: 17\n",
      "Số 8 là: 19\n",
      "Số 9 là: 23\n",
      "Số 10 là: 29\n",
      "Số 11 là: 31\n",
      "Số 12 là: 37\n",
      "Số 13 là: 41\n",
      "Số 14 là: 43\n",
      "Số 15 là: 47\n",
      "Số 16 là: 53\n",
      "Số 17 là: 59\n",
      "Số 18 là: 61\n",
      "Số 19 là: 67\n",
      "Số 20 là: 71\n",
      "Số 21 là: 73\n",
      "Số 22 là: 79\n",
      "Số 23 là: 83\n",
      "Số 24 là: 89\n",
      "Số 25 là: 97\n",
      "Tổng số nguyên tố: 25\n"
     ]
    }
   ],
   "source": [
    "def ngto(a):\n",
    "    '''kiểm tra số nguyên tố'''\n",
    "    flag = True\n",
    "    for i in range(2,a//2+1):\n",
    "        if a%i==0:\n",
    "            flag = False\n",
    "            break\n",
    "    return flag\n",
    "\n",
    "n = int(input('Nhập n= '))\n",
    "count = 0\n",
    "for i in range (2,n+1):\n",
    "    if ngto(i):\n",
    "        count +=1\n",
    "        print(f'Số {count} là: {i}')\n",
    "print(f'Tổng số nguyên tố: {count}')"
   ]
  }
 ],
 "metadata": {
  "kernelspec": {
   "display_name": "Python 3 (ipykernel)",
   "language": "python",
   "name": "python3"
  },
  "language_info": {
   "codemirror_mode": {
    "name": "ipython",
    "version": 3
   },
   "file_extension": ".py",
   "mimetype": "text/x-python",
   "name": "python",
   "nbconvert_exporter": "python",
   "pygments_lexer": "ipython3",
   "version": "3.9.7"
  }
 },
 "nbformat": 4,
 "nbformat_minor": 5
}
