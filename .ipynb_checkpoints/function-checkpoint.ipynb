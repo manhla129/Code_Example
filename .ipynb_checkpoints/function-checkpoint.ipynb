{
 "cells": [
  {
   "cell_type": "code",
   "execution_count": 2,
   "id": "c40a90b8",
   "metadata": {
    "scrolled": false
   },
   "outputs": [
    {
     "name": "stdout",
     "output_type": "stream",
     "text": [
      "1\n",
      "8\n",
      "27\n",
      "64\n",
      "125\n",
      "216\n",
      "343\n",
      "512\n",
      "729\n",
      "1000\n"
     ]
    }
   ],
   "source": [
    "def lb(a):\n",
    "    return a*a*a\n",
    "\n",
    "for i in range(1,11):\n",
    "    print(lb(i))"
   ]
  },
  {
   "cell_type": "code",
   "execution_count": null,
   "id": "bbacce58",
   "metadata": {},
   "outputs": [],
   "source": [
    "# def name(parameter1, parameter 2, ...)\n",
    "    '''docstring'''\n",
    "    # code to be excecute\n",
    "    # name.__doc__: show docstring"
   ]
  },
  {
   "cell_type": "code",
   "execution_count": 1,
   "id": "ef77f46d",
   "metadata": {
    "scrolled": false
   },
   "outputs": [
    {
     "name": "stdout",
     "output_type": "stream",
     "text": [
      "n = 5\n",
      "Giai thừa của 5 là: 120\n"
     ]
    }
   ],
   "source": [
    "from my_module import *\n",
    "n = int(input('n = '))\n",
    "print(f'Giai thừa của {n} là: {giaithua(n)}')"
   ]
  },
  {
   "cell_type": "code",
   "execution_count": 2,
   "id": "5e960f09",
   "metadata": {},
   "outputs": [
    {
     "data": {
      "text/plain": [
       "(12, -3)"
      ]
     },
     "execution_count": 2,
     "metadata": {},
     "output_type": "execute_result"
    }
   ],
   "source": [
    "from my_module import *\n",
    "\n",
    "max_min(-3,6,12)"
   ]
  },
  {
   "cell_type": "code",
   "execution_count": 5,
   "id": "74bfb941",
   "metadata": {
    "scrolled": false
   },
   "outputs": [
    {
     "name": "stdout",
     "output_type": "stream",
     "text": [
      "Nhập n = 50\n",
      "Số nguyên tố thứ 1: 2\n",
      "Số nguyên tố thứ 2: 3\n",
      "Số nguyên tố thứ 3: 5\n",
      "Số nguyên tố thứ 4: 7\n",
      "Số nguyên tố thứ 5: 11\n",
      "Số nguyên tố thứ 6: 13\n",
      "Số nguyên tố thứ 7: 17\n",
      "Số nguyên tố thứ 8: 19\n",
      "Số nguyên tố thứ 9: 23\n",
      "Số nguyên tố thứ 10: 29\n",
      "Số nguyên tố thứ 11: 31\n",
      "Số nguyên tố thứ 12: 37\n",
      "Số nguyên tố thứ 13: 41\n",
      "Số nguyên tố thứ 14: 43\n",
      "Số nguyên tố thứ 15: 47\n",
      "Tổng số nguyên tố: 15\n"
     ]
    }
   ],
   "source": [
    "from my_module import *\n",
    "\n",
    "n = int(input('Nhập n = '))\n",
    "count = 0\n",
    "for i in range(2,n+1):\n",
    "    if ngto(i):\n",
    "        count +=1\n",
    "        print(f'Số nguyên tố thứ {count}: {i}')\n",
    "print(f'Tổng số nguyên tố: {count}')"
   ]
  }
 ],
 "metadata": {
  "kernelspec": {
   "display_name": "Python 3 (ipykernel)",
   "language": "python",
   "name": "python3"
  },
  "language_info": {
   "codemirror_mode": {
    "name": "ipython",
    "version": 3
   },
   "file_extension": ".py",
   "mimetype": "text/x-python",
   "name": "python",
   "nbconvert_exporter": "python",
   "pygments_lexer": "ipython3",
   "version": "3.9.7"
  }
 },
 "nbformat": 4,
 "nbformat_minor": 5
}
